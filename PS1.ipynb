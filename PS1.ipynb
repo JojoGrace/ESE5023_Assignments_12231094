{
 "cells": [
  {
   "cell_type": "code",
   "execution_count": 8,
   "id": "ce372768",
   "metadata": {},
   "outputs": [
    {
     "data": {
      "text/plain": [
       "5"
      ]
     },
     "execution_count": 8,
     "metadata": {},
     "output_type": "execute_result"
    }
   ],
   "source": [
    "# Flowchart\n",
    "# define a function to compute a,b,c\n",
    "def compute(x,y,z):\n",
    "    return x+y-10*z\n",
    "\n",
    "a=10\n",
    "b=5\n",
    "c=1\n",
    "if a>b:\n",
    "    if b>c:\n",
    "        result=compute(a,b,c)\n",
    "    elif a>c:\n",
    "        result=compute(a,c,b)\n",
    "    else:\n",
    "        result=compute(c,a,b)\n",
    "else:\n",
    "    if b>c:\n",
    "        print(\"Try again\")\n",
    "    else:\n",
    "        result=compute(c,b,a)\n",
    "compute(a,b,c)"
   ]
  },
  {
   "cell_type": "code",
   "execution_count": 4,
   "id": "467f67ab",
   "metadata": {},
   "outputs": [
    {
     "name": "stdout",
     "output_type": "stream",
     "text": [
      "33\n",
      "101\n",
      "15\n",
      "23\n",
      "17\n"
     ]
    }
   ],
   "source": [
    "# Continuous celing function\n",
    "import math\n",
    "# define the function\n",
    "def F_ceil(x):\n",
    "    if x==1:\n",
    "        return 1\n",
    "    else:\n",
    "        return F_ceil(math.ceil(x/3))+2*x\n",
    "\n",
    "# 定义一个list\n",
    "ceil_list=[10,33,5,8,6]\n",
    "\n",
    "# t代入函数\n",
    "for i in ceil_list:\n",
    "    print(F_ceil(i))\n"
   ]
  },
  {
   "cell_type": "code",
   "execution_count": 25,
   "id": "4bc29ee1",
   "metadata": {},
   "outputs": [
    {
     "name": "stdout",
     "output_type": "stream",
     "text": [
      "[1, 10, 55, 220, 715, 2002, 4996, 11350, 23815, 46640, 85943, 149942, 248921, 394820, 600380, 877844, 1237313, 1684982, 2221551, 2841120, 3530835, 4271454, 5038848, 5806242, 6546861, 7236576, 7856145, 8392714, 8840383, 9199852, 9477316, 9682876, 9828775, 9927754, 9991753, 10031056, 10053881, 10066346, 10072700, 10075694, 10076981, 10077476, 10077641, 10077686, 10077695, 10077696, 10077696, 10077696, 10077696, 10077696, 10077696]\n"
     ]
    }
   ],
   "source": [
    "# Dice rolling\n",
    "def Find_number_of_ways(n,x):\n",
    "    # n为骰子数目\n",
    "    # x为数字和\n",
    "    # 参考了这个网站的思路和代码，思路和网站的一致，代码是看了之后自己写的\n",
    "    # https://www.geeksforgeeks.org/dice-throw-dp-30/\n",
    "    if n>x:\n",
    "        return 0\n",
    "    elif n==1:\n",
    "        return 1\n",
    "    else:\n",
    "        return Find_number_of_ways(n-1,x-1)+Find_number_of_ways(n-1,x-2)+Find_number_of_ways(n-1,x-3)+Find_number_of_ways(n-1,x-4)+Find_number_of_ways(n-1,x-5)+Find_number_of_ways(n-1,x-6)\n",
    "    # 主要思路就是将n个骰子，和为x的分解成n-1个骰子，和为x-1，x-2，……，x-6\n",
    "    # 然后利用迭代求出最后的和\n",
    "    \n",
    "# 定义一个零数组\n",
    "Number_of_ways=[0]*51\n",
    "\n",
    "# 代入函数计算10-60的骰子和种数\n",
    "for i in range(51):\n",
    "    Number_of_ways[i]=Find_number_of_ways(10,i+10)\n",
    "print(Number_of_ways)"
   ]
  },
  {
   "cell_type": "code",
   "execution_count": 27,
   "id": "72b082f1",
   "metadata": {},
   "outputs": [
    {
     "data": {
      "text/plain": [
       "[<matplotlib.lines.Line2D at 0x23131745880>]"
      ]
     },
     "execution_count": 27,
     "metadata": {},
     "output_type": "execute_result"
    },
    {
     "data": {
      "image/png": "[encoded data removed]",
      "text/plain": [
       "<Figure size 432x288 with 1 Axes>"
      ]
     },
     "metadata": {
      "needs_background": "light"
     },
     "output_type": "display_data"
    }
   ],
   "source": [
    "# Dice rolling\n",
    "# plot Number_of_ways 10-60\n",
    "import matplotlib.pyplot as plt\n",
    "n=range(10,61)\n",
    "plt.plot(n, Number_of_ways)"
   ]
  },
  {
   "cell_type": "code",
   "execution_count": 24,
   "id": "98474f30",
   "metadata": {},
   "outputs": [
    {
     "name": "stdout",
     "output_type": "stream",
     "text": [
      "input a number N: 5\n",
      "[4, 3, 2, 5, 0]\n"
     ]
    }
   ],
   "source": [
    "# Dynamic programming\n",
    "# 4.1\n",
    "import random\n",
    "N=int(input(\"input a number N: \"))\n",
    "def Random_integer(N):\n",
    "    Rn=[0]*N\n",
    "    for i in range(N):\n",
    "        Rn[i]=round(random.random()*10)\n",
    "    return Rn\n",
    "Rn=Random_integer(N)\n",
    "print(Rn)"
   ]
  },
  {
   "cell_type": "code",
   "execution_count": 37,
   "id": "7ac3b68f",
   "metadata": {},
   "outputs": [
    {
     "data": {
      "text/plain": [
       "14.0"
      ]
     },
     "execution_count": 37,
     "metadata": {},
     "output_type": "execute_result"
    }
   ],
   "source": [
    "# Dynamic programming\n",
    "# 4.2\n",
    "import math\n",
    "def Sum_averages(n,S):\n",
    "    # n为数组元素数\n",
    "    # S为数组所有元素和\n",
    "    Sn=0\n",
    "    for i in range(n):\n",
    "        Sn=Sn+S*math.factorial(n-1)/math.factorial(i)/math.factorial(n-1-i)/(n-i)\n",
    "        # 对于有n个元素的数组，假设里面有一个元素为a，a可以是里面的任意一个元素\n",
    "        # 考虑它的有k个元素的子数组\n",
    "        # 那么包含a的有k个元素的子数组一共有C(n-1,k-1)（C代表组合数，n-1是下标，k-1是上标）\n",
    "        # 因为固定a之后，需要在剩下的n-1个元素中选取k-1个数，因此是C(n-1,k-1)\n",
    "        # 所以在求有k个元素的子数组的平均值的和时，每个元素都计算了C(n-1,k-1)次\n",
    "        # 得到k个元素的子数组的平均值的和为：Sum*C(n-1,k-1)/k，Sum代表有n个元素的数组的所有元素和\n",
    "        # k从n到1，得到上述的循环\n",
    "    return Sn\n",
    "A=[1,2,3]\n",
    "n=len(A)\n",
    "S=sum(A)\n",
    "Sum_averages(n,S)"
   ]
  },
  {
   "cell_type": "code",
   "execution_count": 38,
   "id": "5d21d6c5",
   "metadata": {},
   "outputs": [
    {
     "name": "stdout",
     "output_type": "stream",
     "text": [
      "[1.0, 4.5, 14.0, 37.5, 93.0, 220.5, 508.0, 1147.5, 2555.0, 5626.5, 12282.0, 26617.5, 57337.0, 122872.5, 262136.0, 557047.5, 1179639.0, 2490358.5, 5242870.0, 11010037.5, 23068661.0, 48234484.5, 100663284.0, 209715187.5, 436207603.0, 905969650.5, 1879048178.0, 3892314097.5, 8053063665.0, 16642998256.5, 34359738352.0, 70866960367.5, 146028888047.0, 300647710702.5, 618475290606.0, 1271310319597.5, 2611340115949.0, 5360119185388.5, 10995116277740.0, 22539988369387.5, 46179488366571.0, 94557999988714.5, 193514046488554.0, 395824185999337.5, 809240558043113.0, 1653665488175080.5, 3377699720527848.0, 6896136929411047.0, 1.4073748835532776e+16, 2.8710447624486896e+16, 5.8546795155816424e+16, 1.193453901253181e+17, 2.431943798780068e+17, 4.953959590107545e+17, 1.008806316530991e+18, 2.053641430080946e+18, 4.17934045419982e+18, 8.5027960964755e+18, 1.7293822569102707e+19, 3.5164105890508825e+19, 7.148113328562452e+19, 1.4526810958046274e+20, 2.951479051793528e+20, 5.995191823955603e+20, 1.2174851088648301e+21, 2.47186370587708e+21, 5.017514388048999e+21, 1.018260272868767e+22, 2.0660353362554694e+22, 4.191100253546809e+22, 8.500259669165365e+22, 1.723663766247419e+23, 3.494551197323536e+23, 7.08354972430447e+23, 1.4355994107923713e+24, 2.908977753447702e+24, 5.893513370621316e+24, 1.1938142468694465e+25, 2.4178516392292583e+25, 4.896149569439247e+25, 9.913191720839966e+25, 2.006816860560285e+26, 4.061990753905152e+26, 8.22069557337948e+26, 1.6634819277897295e+27, 3.3656494818071265e+27, 6.808670216069593e+27, 1.3772082937049851e+28, 2.785365088392107e+28, 5.632627178748481e+28, 1.1389048361425502e+29, 2.3025684730708084e+29, 4.654654547713028e+29, 9.40834429856889e+29, 1.9014759003423438e+30, 3.8425658819418204e+30, 7.764359926397905e+30, 1.568717617782433e+31, 3.1691265005705744e+31, 6.40163553115256e+31]\n"
     ]
    }
   ],
   "source": [
    "# Dynamic programming\n",
    "# 4.3\n",
    "N=100\n",
    "Total_sum_averages=[0]*100\n",
    "for i in range(N):\n",
    "    K=[0]*(i+1)\n",
    "    for j in range(i+1):\n",
    "        K[j]=j+1\n",
    "    S=sum(K)\n",
    "    Total_sum_averages[i]=Sum_averages(i+1,S)\n",
    "print(Total_sum_averages)"
   ]
  },
  {
   "cell_type": "code",
   "execution_count": 158,
   "id": "3bff1356",
   "metadata": {},
   "outputs": [
    {
     "name": "stdout",
     "output_type": "stream",
     "text": [
      "Create a matrix with N rows: 4\n",
      "Create a matrix with M columns: 5\n",
      "[[1. 0. 1. 1. 0.]\n",
      " [1. 1. 0. 1. 1.]\n",
      " [0. 0. 0. 1. 1.]\n",
      " [0. 0. 1. 1. 1.]]\n"
     ]
    }
   ],
   "source": [
    "# Path counting\n",
    "# 5.1\n",
    "import numpy as np\n",
    "import random\n",
    "N=int(input(\"Create a matrix with N rows: \"))\n",
    "M=int(input(\"Create a matrix with M columns: \"))\n",
    "def random_matrix(N,M):\n",
    "    matrix=np.empty((N,M))\n",
    "    # 建立一个N行M列的空数组\n",
    "    for i in range(N):\n",
    "        for j in range(M):\n",
    "            matrix[i,j]=random.choice([0,1])\n",
    "    matrix[0,0]=1\n",
    "    matrix[N-1,M-1]=1\n",
    "    # 先用0和1把数组随机填满，再令左上角和右下角的元素为1\n",
    "    return matrix\n",
    "matrix=random_matrix(N,M)\n",
    "print(matrix)"
   ]
  },
  {
   "cell_type": "code",
   "execution_count": 156,
   "id": "ae7addb4",
   "metadata": {},
   "outputs": [
    {
     "name": "stdout",
     "output_type": "stream",
     "text": [
      "10\n"
     ]
    }
   ],
   "source": [
    "# Path counting\n",
    "# 5.2\n",
    "def Count_path(A,N,M):\n",
    "    # A为给定的矩阵\n",
    "    # N为A的行数，M为A的列数\n",
    "    # 参考了这个网站的思路和代码，代码是看了之后自己写的\n",
    "    # https://www.geeksforgeeks.org/count-number-ways-reach-destination-maze/\n",
    "    for i in range(N):\n",
    "        for j in range(M):\n",
    "            A[i][j]=A[i][j]-1\n",
    "    for i in range(N):\n",
    "        if A[i][0]==0:\n",
    "            A[i][0]=1\n",
    "        else:\n",
    "            break\n",
    "    for j in range(1,M):\n",
    "        if A[0][j]==0:\n",
    "            A[0][j]=1\n",
    "        else:\n",
    "            break\n",
    "    for i in range(1,N):\n",
    "        for j in range(1,M):\n",
    "            if A[i][j]==-1:\n",
    "                continue\n",
    "            if A[i-1][j]>0:\n",
    "                A[i][j]=A[i][j]+A[i-1][j]\n",
    "            if A[i][j-1]>0:\n",
    "                A[i][j]=A[i][j]+A[i][j-1]\n",
    "    return A[N-1][M-1]\n",
    "    # 主要思路就是到达每个元素的路径数等于到达它的左边和上边的路径数之和\n",
    "\n",
    "P=[[1,0,1,0],\n",
    "   [1,1,1,1],\n",
    "  [1,1,1,0],\n",
    "  [0,1,1,1],\n",
    "  [1,0,1,1]]\n",
    "N=len(P)\n",
    "M=len(P[0])\n",
    "print(Count_path(P,N,M))"
   ]
  },
  {
   "cell_type": "code",
   "execution_count": 157,
   "id": "36f6db00",
   "metadata": {},
   "outputs": [
    {
     "name": "stdout",
     "output_type": "stream",
     "text": [
      "0.437\n"
     ]
    }
   ],
   "source": [
    "# Path counting\n",
    "# 5.3\n",
    "\n",
    "# 定义一个1000个元素的空数组\n",
    "Count=np.empty(1000)\n",
    "\n",
    "# 指定行列数\n",
    "N=10\n",
    "M=8\n",
    "\n",
    "# 代入函数\n",
    "for i in range(1000):\n",
    "    matrix=random_matrix(N,M)\n",
    "    Count[i]=Count_path(matrix,N,M)\n",
    "avera=np.mean(Count)\n",
    "print(avera)"
   ]
  },
  {
   "cell_type": "code",
   "execution_count": null,
   "id": "75a66b4d",
   "metadata": {},
   "outputs": [],
   "source": []
  }
 ],
 "metadata": {
  "kernelspec": {
   "display_name": "Python 3 (ipykernel)",
   "language": "python",
   "name": "python3"
  },
  "language_info": {
   "codemirror_mode": {
    "name": "ipython",
    "version": 3
   },
   "file_extension": ".py",
   "mimetype": "text/x-python",
   "name": "python",
   "nbconvert_exporter": "python",
   "pygments_lexer": "ipython3",
   "version": "3.9.12"
  }
 },
 "nbformat": 4,
 "nbformat_minor": 5
}
